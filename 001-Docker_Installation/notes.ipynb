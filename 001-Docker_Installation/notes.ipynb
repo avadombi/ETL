{
 "cells": [
  {
   "cell_type": "markdown",
   "metadata": {},
   "source": [
    "# **1. Install WSL and Ubuntu distribution (default Linux distribution)**"
   ]
  },
  {
   "cell_type": "markdown",
   "metadata": {},
   "source": [
    "## **1.1. What is a distribution**\n",
    "\n",
    "A Linux distribution is a complete set of programs and software based on the Linux operating system. Think of a cake: Linux is like the basic cake recipe. A Linux distribution is like a specific cake with particular ingredients and flavors.\n",
    "\n",
    "Imagine you want to bake a chocolate cake. You can choose different recipes for this cake: one with more chocolate, one with nuts or chocolate chips, or even one with a special icing. Each recipe is a different cast, with unique features and functions.\n",
    "\n",
    "Similarly, a Linux distribution is a specific version of Linux that has been customized by a team of developers. They add specific programs, applications and features to make Linux easier to use and meet users' needs."
   ]
  },
  {
   "cell_type": "markdown",
   "metadata": {},
   "source": [
    "## **1.2. Installation**\n",
    "\n",
    "* Open PowerShell with admin privileges\n",
    "* Check \"wsl --status\": nothing appeared\n",
    "* Execute \"wsl --install\"\n",
    "* Restart the computer\n",
    "* The ubuntu distro will open (or open it yourself), then create user account (username and password)\n",
    "\n",
    "Note: You need to set up a Linux user account every time you add, reinstall or reset a distribution. This user is the admin\n",
    "\n",
    "* Execute \"sudo apt update && sudo apt upgrade\"\n",
    "* Check that you have Windows Home (version of your Windows)\n",
    "> * Press Windows + R to open the Run dialog box.\n",
    ">\n",
    ">* Type \"winver\" (without quotation marks) in the Run dialog box, then press Enter or click OK.\n",
    ">\n",
    "> * A window entitled \"About Windows\" will open, displaying information about the version of Windows installed on your system.\n",
    ">\n",
    "> * Look for the line indicating the Windows version, which may look something like this: \"Windows 11 Pro\", \"Windows 11 Enterprise\", \"Windows 11 Home\" or \"Windows 11 Education\".\n",
    "\n",
    "**Note:** Windows Familly = Windows Home\n",
    "\n",
    "* Check that Second Level Address Translation (SLAT) is supported by Windows.\n",
    "\n",
    "For that, open PowerShell and execute: \"systeminfo.exe\" and at the bottom, ensure that Hyper-V is activated. Otherwise, follow this:\n",
    "\n",
    "https://docs.docker.com/desktop/troubleshoot/topics/#virtualization\n",
    "\n",
    "* Enable hardware virtualization in BIOS\n",
    "\n",
    "https://docs.docker.com/desktop/troubleshoot/topics/#virtualization (same link as previous)\n",
    "\n",
    "Your machine must have the following features for Docker Desktop to function correctly:\n",
    "\n",
    "> * WSL 2\n",
    "> * Windows Home Virtual Machine Platform"
   ]
  },
  {
   "cell_type": "markdown",
   "metadata": {},
   "source": [
    "# **2. Install Docker Desktop on Windows**"
   ]
  },
  {
   "cell_type": "markdown",
   "metadata": {},
   "source": [
    "## **2.1. Installation**\n",
    "\n",
    "https://docs.docker.com/desktop/install/windows-install/#install-docker-desktop-on-windows\n",
    "\n",
    "> * Download the installer using the download button at the top of the page, or from the release notes.\n",
    "> \n",
    "> * Double-click Docker Desktop Installer.exe to run the installer. By default, Docker Desktop is installed at C:\\Program Files\\Docker\\Docker.\n",
    "> \n",
    "> * Follow the instruction. Once finished, restart the PC\n",
    "> \n",
    "> * Sign up (docker account) using gmail or github (I used github): create a username > * sign in > go back to Docker Desktop > and that's all.\n",
    "> \n",
    "> * In VS Code, download the WSL extension (WSL). You will get a \"remote explorer\" icon.\n",
    "\n",
    "Note that Docker CLI is also locally installed. So, if you open your CMD (on windows), you can use the \"docker\" command and execute some docker commands."
   ]
  },
  {
   "cell_type": "markdown",
   "metadata": {},
   "source": [
    "## **2.2. Containers and Images**\n",
    "\n",
    "Traditionally, to run any application, you had to install the version that matched your machine’s operating system.\n",
    "\n",
    "However, now you can create a single software package, or `container`, that runs on all types of devices and operating systems.\n",
    "\n",
    "`Docker` is a software platform that packages software into `containers`.\n",
    "\n",
    "`Docker images` are read-only templates that contain instructions for creating a `container`.\n",
    "\n",
    "`A Docker image` is a `snapshot` or `blueprint` of the libraries and dependencies required inside a container for an application to run.\n",
    "\n",
    "### **Example:**\n",
    "\n",
    "<img src=\"./images/docker.png\" width=\"600px\" />\n",
    "\n",
    "Let's say you have developed a Python web application using a specific set of dependencies, such as Flask framework and SQLAlchemy library. You have written the code and defined the dependencies in a `requirements.txt` file.\n",
    "\n",
    "**In this scenario:**\n",
    "\n",
    "An image would be a self-contained package that includes the Python interpreter, Flask, SQLAlchemy, and any other dependencies specified in the requirements.txt file.\n",
    "\n",
    "It essentially represents the snapshot of your application's environment.\n",
    "\n",
    "A container would be a running instance of that image. It would provide an isolated environment where your Python web application can execute, serving incoming HTTP requests."
   ]
  },
  {
   "cell_type": "markdown",
   "metadata": {},
   "source": [
    "## **2.3. Use existing docker images: Docker Hub**"
   ]
  },
  {
   "cell_type": "markdown",
   "metadata": {},
   "source": [
    "* In google, type docker hub and pick the first link or click on this: https://hub.docker.com/\n",
    "\n",
    "* In the search bar, type for any service you are looking for. For example, python (interpreter), redis or mongodb, nginx ... (redis is a NoSQL DBS as mongodb is).\n",
    "\n",
    "Let's take nginx. This will list you the available nginx images.\n",
    "\n",
    "> **Note:**\n",
    "> Nginx is a popular web server and reverse proxy server known for its high\n",
    "> performance, scalability, and efficient handling of concurrent connections.\n",
    "\n",
    "* Click on the image (docker official) for example: the page explains how to use it, list of tags, and many other stuffs\n",
    "\n",
    "Note: there are image versionning. Thus, images are versioned (versions are identified by tags: image tags). So, you can run a container for each version. We will use in this example, nginx image (web server).\n",
    "\n",
    "* Pick a specific image tag (or version). Let's take the version 1.25.3 (lastes currently)\n",
    "\n",
    "* Go to your terminal and execute:\n",
    "\n",
    "> docker pull nginx:1.25.3.\n",
    "\n",
    "This will download it locally\n",
    "\n",
    "* Examine the vulnerabilities and recommandations:\n",
    "\n",
    "> docker scout quickview nginx:1.25.3\n",
    "\n",
    "* List the available images:\n",
    "\n",
    "> docker images\n",
    "\n",
    "Now, we will see the downloaded image.\n",
    "\n",
    "* To run an image in a container using the CLI\n",
    "\n",
    "> docker run nginx:1.25.3\n",
    "\n",
    "* Open a new terminal session [powershell or cmd] (do not shut down the container which is currently running), and list containers that are running\n",
    "\n",
    "> docker ps\n"
   ]
  }
 ],
 "metadata": {
  "kernelspec": {
   "display_name": "Python 3",
   "language": "python",
   "name": "python3"
  },
  "language_info": {
   "codemirror_mode": {
    "name": "ipython",
    "version": 3
   },
   "file_extension": ".py",
   "mimetype": "text/x-python",
   "name": "python",
   "nbconvert_exporter": "python",
   "pygments_lexer": "ipython3",
   "version": "3.12.1"
  }
 },
 "nbformat": 4,
 "nbformat_minor": 2
}
